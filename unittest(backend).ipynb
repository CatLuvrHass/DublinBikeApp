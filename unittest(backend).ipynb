{
 "cells": [
  {
   "cell_type": "code",

   "execution_count": 2,

   "metadata": {},
   "outputs": [],
   "source": [
    "#import modules\n",
    "import pandas as pd\n",
    "import numpy as np\n",
    "from sqlalchemy import create_engine\n",
    "import matplotlib.pylab as plt\n",
    "import seaborn as sns\n",
    "import credentials\n",
    "import datetime\n",
    "from datetime import date\n",
    "from sklearn.linear_model import LinearRegression\n",
    "from sklearn.linear_model import LogisticRegression\n",
    "from sklearn.model_selection import train_test_split\n",
    "from sklearn import metrics\n",
    "from sklearn.model_selection import cross_validate\n",
    "from sklearn.model_selection import cross_val_score\n",
    "import unittest"
   ]
  },
  {
   "cell_type": "code",

   "execution_count": 3,

   "metadata": {},
   "outputs": [],
   "source": [
    "#import database credentials\n",
    "URI = \"dublinbikeappdb.cxaxe40vwlui.us-east-1.rds.amazonaws.com\"\n",
    "DB = \"dbikes1\"\n",
    "name = credentials.name\n",
    "pw = credentials.password\n",
    "engine = create_engine(\"mysql+mysqlconnector://{}:{}@{}:3306/{}\".format(name,pw,URI,DB),echo=False)"
   ]
  },
  {
   "cell_type": "code",

   "execution_count": 6,

   "metadata": {},
   "outputs": [
    {
     "name": "stderr",
     "output_type": "stream",
     "text": [
      "test_database_access_availability (__main__.testCase) ... ok\n",
      "test_database_access_stations (__main__.testCase)\n",
      "Initate connection ... ok\n",
      "test_database_access_weather (__main__.testCase) ... ok\n",

      "test_pickle (__main__.testCase) ... C:\\ProgramData\\Anaconda3\\lib\\unittest\\case.py:633: ResourceWarning: unclosed file <_io.BufferedReader name='models.pkl'>\n",
      "  method()\n",
      "ResourceWarning: Enable tracemalloc to get the object allocation traceback\n",
      "ok\n",
      "\n",
      "----------------------------------------------------------------------\n",
      "Ran 4 tests in 4.419s\n",

      "\n",
      "OK\n"
     ]
    },
    {
     "data": {
      "text/plain": [

       "<unittest.main.TestProgram at 0xa6fcc10>"
      ]
     },
     "execution_count": 6,

     "metadata": {},
     "output_type": "execute_result"
    }
   ],
   "source": [
    "class testCase(unittest.TestCase):\n",
    "    #test accessibility to database\n",
    "    def test_database_access_stations(self):\n",
    "        #test that the database can connect and that the static stations table is functioning\n",
    "        \"\"\"Initate connection\"\"\"\n",
    "        select = \"\"\"SELECT *\n",
    "        FROM stations s\"\"\"\n",
    "    \n",
    "        dfs = pd.read_sql_query(select, engine)\n",
    "        self.assertEqual(dfs.shape[0],109)\n",
    "        self.assertEqual(dfs.shape[1],6)\n",
    "        \n",
    "    def test_database_access_weather(self):\n",
    "        #test that the database can connect and that the static stations table is functioning\n",
    "        weather = '''SELECT *\n",
    "        FROM weather'''\n",
    "        dfw = dfs = pd.read_sql_query(weather, engine)\n",
    "        self.assertEqual(dfw.shape[1],13)\n",
    "        \n",
    "    def test_database_access_availability(self):\n",
    "        #test that the database can connect and that the static stations table is functioning\n",
    "        availability = '''SELECT a.number\n",
    "        FROM availability a\n",
    "        GROUP BY a.number\n",
    "        '''\n",
    "\n",
    "        dfa = pd.read_sql_query(availability, engine)\n",
    "        self.assertEqual(dfa.shape[0],110)\n",

    "        #NOTE: This station number differs to the previous station number as it includes an experimental station\n",
    "        #We were under the assumption that this station is a prototype and different to the other stations\n",
    "        #We withheld this station from the stations table until it is out of prototype stage, as it is signigicantly\n",
    "        #different to the type of bikes offered at the other stations, and customers looking for a none electric bike\n",
    "        #may become frustrated if they wish to rent a normal bike and find a station only has electric. Thus, this \n",
    "        #station has been excluded from the models, but data is still being collected on the station in the event that\n",
    "        #we wish to include the station for futher reference\n",
    "        \n",
    "    def test_pickle(self):\n",
    "        #test to make sure that both pickle file is accessible and the models on the file are functioning\n",
    "        import pickle\n",
    "        pickle_in = open(\"models.pkl\", \"rb\")\n",
    "        models = pickle.load(pickle_in)\n",
    "        model = models[2][0]\n",
    "    \n",
    "        #compute bikes available at this time\n",
    "        dic = {'day': 5, 'humid': 61, 'temp': 9.53}\n",
    "        result = model.predict([np.array([16, dic['day'], dic['humid'], dic['temp']])])\n",
    "        result = result[0]\n",
    "\n",
    "        #ensures prediction cannot be negitive\n",
    "        if result <= 0:\n",
    "            result = 0\n",
    "        \n",
    "        self.assertEqual(int(result),5)\n",

    "\n",
    "unittest.main(argv=[''],verbosity=2, exit=False)"
   ]
  },
  {
   "cell_type": "code",
   "execution_count": null,
   "metadata": {},
   "outputs": [],
   "source": []
  }
 ],
 "metadata": {
  "kernelspec": {
   "display_name": "Python 3",
   "language": "python",
   "name": "python3"
  },
  "language_info": {
   "codemirror_mode": {
    "name": "ipython",
    "version": 3
   },
   "file_extension": ".py",
   "mimetype": "text/x-python",
   "name": "python",
   "nbconvert_exporter": "python",
   "pygments_lexer": "ipython3",
   "version": "3.8.5"
  }
 },
 "nbformat": 4,
 "nbformat_minor": 4
}
