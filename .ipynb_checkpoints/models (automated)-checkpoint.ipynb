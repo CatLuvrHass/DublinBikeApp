{
 "cells": [
  {
   "cell_type": "code",
   "execution_count": 1,
   "metadata": {},
   "outputs": [],
   "source": [
    "#import modules\n",
    "import pandas as pd\n",
    "import numpy as np\n",
    "from sqlalchemy import create_engine\n",
    "import matplotlib.pylab as plt\n",
    "import seaborn as sns\n",
    "import credentials\n",
    "import datetime\n",
    "from datetime import date\n",
    "from sklearn.linear_model import LinearRegression\n",
    "from sklearn.linear_model import LogisticRegression\n",
    "from sklearn.model_selection import train_test_split\n",
    "from sklearn import metrics\n",
    "from sklearn.model_selection import cross_validate\n",
    "from sklearn.model_selection import cross_val_score\n",
    "import warnings\n",
    "warnings.simplefilter(action='ignore', category=FutureWarning)"
   ]
  },
  {
   "cell_type": "code",
   "execution_count": 2,
   "metadata": {},
   "outputs": [],
   "source": [
    "#access database\n",
    "URI = \"dublinbikeappdb.cxaxe40vwlui.us-east-1.rds.amazonaws.com\"\n",
    "DB = \"dbikes1\"\n",
    "name = credentials.name\n",
    "pw = credentials.password\n",
    "\n",
    "\"\"\"Initate connection\"\"\"\n",
    "engine = create_engine(\"mysql+mysqlconnector://{}:{}@{}:3306/{}\".format(name,pw,URI,DB),echo=False)"
   ]
  },
  {
   "cell_type": "code",
   "execution_count": 3,
   "metadata": {},
   "outputs": [],
   "source": [
    "#get infor from db (testing with station number 4)\n",
    "n = 4\n",
    "availability = '''SELECT *\n",
    "FROM availability\n",
    "WHERE number = {}\n",
    "'''.format(n)\n",
    "\n",
    "weather = '''SELECT *\n",
    "FROM weather\n",
    "'''\n",
    "\n",
    "select = \"\"\"SELECT s.number\n",
    "FROM stations s\"\"\""
   ]
  },
  {
   "cell_type": "code",
   "execution_count": 4,
   "metadata": {},
   "outputs": [],
   "source": [
    "#convert db tables to pandas dataframes\n",
    "dfs = pd.read_sql_query(select, engine)\n",
    "dfa = pd.read_sql_query(availability, engine)\n",
    "dfw = pd.read_sql_query(weather, engine)"
   ]
  },
  {
   "cell_type": "code",
   "execution_count": 5,
   "metadata": {},
   "outputs": [],
   "source": [
    "#merge weather and occupancy tables together\n",
    "df = pd.merge_asof(dfa, dfw, left_on=\"last_update\", right_on=\"last_update\")"
   ]
  },
  {
   "cell_type": "code",
   "execution_count": 6,
   "metadata": {},
   "outputs": [
    {
     "name": "stderr",
     "output_type": "stream",
     "text": [
      "C:\\Users\\hassa\\miniconda3\\envs\\dbikes\\lib\\site-packages\\pandas\\core\\indexing.py:1637: SettingWithCopyWarning: \n",
      "A value is trying to be set on a copy of a slice from a DataFrame\n",
      "\n",
      "See the caveats in the documentation: https://pandas.pydata.org/pandas-docs/stable/user_guide/indexing.html#returning-a-view-versus-a-copy\n",
      "  self._setitem_single_block(indexer, value, name)\n"
     ]
    }
   ],
   "source": [
    "#transfor features\n",
    "df[\"time\"] = df[\"last_update\"]\n",
    "df[\"day\"] = df[\"last_update\"]\n",
    "\n",
    "for i in range(df.shape[0]):\n",
    "    df[\"time\"].loc[i]= df.iloc[i][\"last_update\"].hour\n",
    "    df[\"day\"].loc[i] = df.iloc[i][\"last_update\"].dayofweek\n",
    "    x= df.iloc[i][\"last_update\"].dayofweek"
   ]
  },
  {
   "cell_type": "code",
   "execution_count": 7,
   "metadata": {},
   "outputs": [],
   "source": [
    "# implement weather data\n",
    "#df[\"good_weather\"] = np.logical_or(df[\"description\"] == \"Clouds\", df[\"description\"] == \"Clear\")\n",
    "#df.good_weather.replace({True:1, False:0},inplace=True)"
   ]
  },
  {
   "cell_type": "code",
   "execution_count": 8,
   "metadata": {},
   "outputs": [],
   "source": [
    "# create test and train sets\n",
    "X = df[[\"time\",\"day\",\"humidity\",\"temp\"]]\n",
    "y = df.available_bikes\n",
    "\n",
    "X_train, X_test, y_train , y_test = train_test_split(X,y, test_size=0.3, random_state=0)"
   ]
  },
  {
   "cell_type": "code",
   "execution_count": 9,
   "metadata": {},
   "outputs": [
    {
     "name": "stdout",
     "output_type": "stream",
     "text": [
      "[-0.06218871 -0.79433397 -0.01781451 -0.15111277]\n",
      "13.038938492259224\n"
     ]
    }
   ],
   "source": [
    "#linear model\n",
    "model = LinearRegression()\n",
    "model.fit(X_train, y_train)\n",
    "\n",
    "print(model.coef_)\n",
    "print(model.intercept_)"
   ]
  },
  {
   "cell_type": "code",
   "execution_count": 32,
   "metadata": {},
   "outputs": [],
   "source": [
    "#run test set\n",
    "model_predicitons = model.predict(X_test)\n",
    "actual_vs_predicted = pd.concat([y_test, pd.DataFrame(model_predicitons,columns=[\"Predicted\"],index=y_test.index)],axis=1)"
   ]
  },
  {
   "cell_type": "code",
   "execution_count": 33,
   "metadata": {},
   "outputs": [
    {
     "name": "stdout",
     "output_type": "stream",
     "text": [
      "RMSE 3.7858342329646586\n",
      "MAE 2.9433733069073704\n"
     ]
    }
   ],
   "source": [
    "#compute error metrics for test set\n",
    "actual_vs_predicted[\"squared_error\"] = (actual_vs_predicted[\"available_bikes\"] - actual_vs_predicted[\"Predicted\"])**2\n",
    "rmse_test = ((actual_vs_predicted[\"squared_error\"].sum())/actual_vs_predicted.shape[0])**0.5\n",
    "mae_test = ((actual_vs_predicted[\"squared_error\"])**0.5).sum()/actual_vs_predicted.shape[0]\n",
    "\n",
    "print(\"RMSE\",rmse_test)\n",
    "print(\"MAE\",mae_test)"
   ]
  },
  {
   "cell_type": "code",
   "execution_count": 10,
   "metadata": {},
   "outputs": [],
   "source": [
    "#colate this for single function\n",
    "def get_model(n):\n",
    "    \"\"\"returns a model with error scores using the test set\"\"\"\n",
    "    #get infor from db\n",
    "    availability = '''SELECT *\n",
    "    FROM availability\n",
    "    WHERE number = {}\n",
    "    '''.format(n)\n",
    "\n",
    "    weather = '''SELECT *\n",
    "    FROM weather\n",
    "    '''\n",
    "\n",
    "    select = \"\"\"SELECT s.number\n",
    "    FROM stations s\"\"\"\n",
    "    \n",
    "    #convert db tables to pandas dataframes\n",
    "    dfs = pd.read_sql_query(select, engine)\n",
    "    dfa = pd.read_sql_query(availability, engine)\n",
    "    dfw = pd.read_sql_query(weather, engine)\n",
    "    \n",
    "    #merge weather and occupancy tables together\n",
    "    df = pd.merge_asof(dfa, dfw, left_on=\"last_update\", right_on=\"last_update\")\n",
    "    \n",
    "    #transform existing features\n",
    "    df[\"time\"] = df[\"last_update\"]\n",
    "    df[\"day\"] = df[\"last_update\"]\n",
    "\n",
    "    for i in range(df.shape[0]):\n",
    "        df[\"time\"].loc[i]= df.iloc[i][\"last_update\"].hour\n",
    "        df[\"day\"].loc[i] = df.iloc[i][\"last_update\"].dayofweek\n",
    "    \n",
    "    # create test and train sets\n",
    "    X = df[[\"time\",\"day\",\"humidity\",\"temp\"]]\n",
    "    y = df.available_bikes\n",
    "\n",
    "    X_train, X_test, y_train , y_test = train_test_split(X,y, test_size=0.3, random_state=0)\n",
    "    \n",
    "    #linear model\n",
    "    model = LinearRegression()\n",
    "    model.fit(X_train, y_train)\n",
    "    \n",
    "    #run test set\n",
    "    model_predicitons = model.predict(X_test)\n",
    "    actual_vs_predicted = pd.concat([y_test, pd.DataFrame(model_predicitons,columns=[\"Predicted\"],index=y_test.index)],axis=1)\n",
    "    \n",
    "    actual_vs_predicted[\"squared_error\"] = (actual_vs_predicted[\"available_bikes\"] - actual_vs_predicted[\"Predicted\"])**2\n",
    "    rmse_test = ((actual_vs_predicted[\"squared_error\"].sum())/actual_vs_predicted.shape[0])**0.5\n",
    "    mae_test = ((actual_vs_predicted[\"squared_error\"])**0.5).sum()/actual_vs_predicted.shape[0]\n",
    "    \n",
    "    #get model using full dataset\n",
    "    model = LinearRegression()\n",
    "    model.fit(X, y)\n",
    "    results = [model.coef_,model.intercept_,{\"rmse\":rmse_test, \"mae\":mae_test}]\n",
    "    \n",
    "    return results\n",
    "                "
   ]
  },
  {
   "cell_type": "code",
   "execution_count": 11,
   "metadata": {},
   "outputs": [
    {
     "data": {
      "text/plain": [
       "[2, 3, 4]"
      ]
     },
     "execution_count": 11,
     "metadata": {},
     "output_type": "execute_result"
    }
   ],
   "source": [
    "stations = dfs.number.tolist()\n",
    "stations[:3]"
   ]
  },
  {
   "cell_type": "code",
   "execution_count": null,
   "metadata": {},
   "outputs": [
    {
     "name": "stderr",
     "output_type": "stream",
     "text": [
      "C:\\Users\\hassa\\miniconda3\\envs\\dbikes\\lib\\site-packages\\pandas\\core\\indexing.py:1637: SettingWithCopyWarning: \n",
      "A value is trying to be set on a copy of a slice from a DataFrame\n",
      "\n",
      "See the caveats in the documentation: https://pandas.pydata.org/pandas-docs/stable/user_guide/indexing.html#returning-a-view-versus-a-copy\n",
      "  self._setitem_single_block(indexer, value, name)\n"
     ]
    },
    {
     "name": "stdout",
     "output_type": "stream",
     "text": [
      "Station number : 2  Complete\n"
     ]
    },
    {
     "name": "stderr",
     "output_type": "stream",
     "text": [
      "C:\\Users\\hassa\\miniconda3\\envs\\dbikes\\lib\\site-packages\\pandas\\core\\indexing.py:1637: SettingWithCopyWarning: \n",
      "A value is trying to be set on a copy of a slice from a DataFrame\n",
      "\n",
      "See the caveats in the documentation: https://pandas.pydata.org/pandas-docs/stable/user_guide/indexing.html#returning-a-view-versus-a-copy\n",
      "  self._setitem_single_block(indexer, value, name)\n"
     ]
    },
    {
     "name": "stdout",
     "output_type": "stream",
     "text": [
      "Station number : 3  Complete\n"
     ]
    },
    {
     "name": "stderr",
     "output_type": "stream",
     "text": [
      "C:\\Users\\hassa\\miniconda3\\envs\\dbikes\\lib\\site-packages\\pandas\\core\\indexing.py:1637: SettingWithCopyWarning: \n",
      "A value is trying to be set on a copy of a slice from a DataFrame\n",
      "\n",
      "See the caveats in the documentation: https://pandas.pydata.org/pandas-docs/stable/user_guide/indexing.html#returning-a-view-versus-a-copy\n",
      "  self._setitem_single_block(indexer, value, name)\n"
     ]
    },
    {
     "name": "stdout",
     "output_type": "stream",
     "text": [
      "Station number : 4  Complete\n"
     ]
    },
    {
     "name": "stderr",
     "output_type": "stream",
     "text": [
      "C:\\Users\\hassa\\miniconda3\\envs\\dbikes\\lib\\site-packages\\pandas\\core\\indexing.py:1637: SettingWithCopyWarning: \n",
      "A value is trying to be set on a copy of a slice from a DataFrame\n",
      "\n",
      "See the caveats in the documentation: https://pandas.pydata.org/pandas-docs/stable/user_guide/indexing.html#returning-a-view-versus-a-copy\n",
      "  self._setitem_single_block(indexer, value, name)\n"
     ]
    }
   ],
   "source": [
    "#trains all models, and returns error scores\n",
    "#WARNING. THIS FUNCTION WILL TAKE A LONG TIME AS YOU ARE RUNNING ALL CODE FEATURED IN THIS NOTEBOOK FOR\n",
    "#EVERY MODE IN THE DATASET. However long it took you to run all code thus far, this code will repeat those task\n",
    "#for over 100 stations instead of just 1.\n",
    "models = {}\n",
    "for s in stations:\n",
    "    models[s] = get_model(s)\n",
    "    print(\"Station number :\",s,\" Complete\")"
   ]
  },
  {
   "cell_type": "code",
   "execution_count": 21,
   "metadata": {},
   "outputs": [],
   "source": [
    "with open('model.pkl', 'wb') as handle:\n",
    "    pickle.dump(models, handle, pickle.HIGHEST_PROTOCOL)"
   ]
  },
  {
   "cell_type": "code",
   "execution_count": null,
   "metadata": {},
   "outputs": [],
   "source": []
  }
 ],
 "metadata": {
  "kernelspec": {
   "display_name": "Python 3",
   "language": "python",
   "name": "python3"
  },
  "language_info": {
   "codemirror_mode": {
    "name": "ipython",
    "version": 3
   },
   "file_extension": ".py",
   "mimetype": "text/x-python",
   "name": "python",
   "nbconvert_exporter": "python",
   "pygments_lexer": "ipython3",
   "version": "3.7.9"
  }
 },
 "nbformat": 4,
 "nbformat_minor": 4
}
